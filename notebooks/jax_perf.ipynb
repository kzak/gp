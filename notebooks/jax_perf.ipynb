{
 "cells": [
  {
   "cell_type": "code",
   "execution_count": 2,
   "id": "c74f4da4-16eb-4472-9901-48bd24f790c9",
   "metadata": {},
   "outputs": [],
   "source": [
    "import numpy as np\n",
    "import jax.numpy as jnp\n",
    "\n",
    "import warnings\n",
    "warnings.filterwarnings('ignore')"
   ]
  },
  {
   "cell_type": "code",
   "execution_count": 14,
   "id": "9dc3953a-068b-4228-92c1-4f620f0fc960",
   "metadata": {},
   "outputs": [],
   "source": [
    "# Data \n",
    "\n",
    "X = np.random.normal(0, 1, size=(100, 2))\n",
    "Y = jnp.array(X)"
   ]
  },
  {
   "cell_type": "code",
   "execution_count": 15,
   "id": "c211a64a-9c67-44f3-9742-ffc8c9e33313",
   "metadata": {},
   "outputs": [
    {
     "name": "stdout",
     "output_type": "stream",
     "text": [
      "887 ns ± 0.501 ns per loop (mean ± std. dev. of 7 runs, 1,000,000 loops each)\n"
     ]
    }
   ],
   "source": [
    "%timeit X.T @ X"
   ]
  },
  {
   "cell_type": "code",
   "execution_count": 16,
   "id": "77c90671-bd8f-48a0-942f-36571d56d468",
   "metadata": {},
   "outputs": [
    {
     "name": "stdout",
     "output_type": "stream",
     "text": [
      "818 ns ± 4.27 ns per loop (mean ± std. dev. of 7 runs, 1,000,000 loops each)\n"
     ]
    }
   ],
   "source": [
    "%timeit np.dot(X.T, X)"
   ]
  },
  {
   "cell_type": "code",
   "execution_count": 17,
   "id": "c123bc6c-d1ae-4851-b6d6-a0c031069f9a",
   "metadata": {},
   "outputs": [
    {
     "name": "stdout",
     "output_type": "stream",
     "text": [
      "26.6 µs ± 63.1 ns per loop (mean ± std. dev. of 7 runs, 10,000 loops each)\n"
     ]
    }
   ],
   "source": [
    "%timeit Y.T @ Y"
   ]
  },
  {
   "cell_type": "code",
   "execution_count": 18,
   "id": "9e985627-2c98-49b7-a342-08bc389de501",
   "metadata": {},
   "outputs": [
    {
     "name": "stdout",
     "output_type": "stream",
     "text": [
      "25.7 µs ± 60.1 ns per loop (mean ± std. dev. of 7 runs, 10,000 loops each)\n"
     ]
    }
   ],
   "source": [
    "%timeit jnp.dot(Y.T, Y)"
   ]
  },
  {
   "cell_type": "code",
   "execution_count": 21,
   "id": "f482bc5e-ff99-4f3d-935a-0ab996ab1516",
   "metadata": {},
   "outputs": [
    {
     "data": {
      "text/plain": [
       "DeviceArray([[102.080086 ,   6.8710666],\n",
       "             [  6.8710666,  87.6735   ]], dtype=float32)"
      ]
     },
     "execution_count": 21,
     "metadata": {},
     "output_type": "execute_result"
    }
   ],
   "source": [
    "jnp.dot(Y.T, Y)"
   ]
  },
  {
   "cell_type": "code",
   "execution_count": 22,
   "id": "478ccbdb-09b9-4656-84a9-e31829d747f8",
   "metadata": {},
   "outputs": [
    {
     "data": {
      "text/plain": [
       "DeviceArray([[102.080086 ,   6.8710666],\n",
       "             [  6.8710666,  87.6735   ]], dtype=float32)"
      ]
     },
     "execution_count": 22,
     "metadata": {},
     "output_type": "execute_result"
    }
   ],
   "source": [
    "Y.T @ Y"
   ]
  },
  {
   "cell_type": "code",
   "execution_count": 10,
   "id": "b890aa7e-73c7-478c-afa1-9d9b09ca3ef8",
   "metadata": {},
   "outputs": [],
   "source": [
    "# Load developping modules\n",
    "\n",
    "import sys\n",
    "sys.path.append('..')\n",
    "\n",
    "from models.gpr import *\n",
    "from utils.plots import *"
   ]
  },
  {
   "cell_type": "code",
   "execution_count": null,
   "id": "786c9a39-347f-4817-8170-44e633e35c77",
   "metadata": {},
   "outputs": [],
   "source": []
  }
 ],
 "metadata": {
  "kernelspec": {
   "display_name": "Python 3 (ipykernel)",
   "language": "python",
   "name": "python3"
  },
  "language_info": {
   "codemirror_mode": {
    "name": "ipython",
    "version": 3
   },
   "file_extension": ".py",
   "mimetype": "text/x-python",
   "name": "python",
   "nbconvert_exporter": "python",
   "pygments_lexer": "ipython3",
   "version": "3.9.10"
  }
 },
 "nbformat": 4,
 "nbformat_minor": 5
}
